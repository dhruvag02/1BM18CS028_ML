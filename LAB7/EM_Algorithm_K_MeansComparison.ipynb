{
  "nbformat": 4,
  "nbformat_minor": 0,
  "metadata": {
    "colab": {
      "name": "EM_Algorithm_K-MeansComparison.ipynb",
      "provenance": []
    },
    "kernelspec": {
      "name": "python3",
      "display_name": "Python 3"
    },
    "language_info": {
      "name": "python"
    }
  },
  "cells": [
    {
      "cell_type": "code",
      "metadata": {
        "id": "54iVrqKpS3-N"
      },
      "source": [
        "\n",
        "\n",
        "import matplotlib.pyplot as plt\n",
        "from sklearn import datasets\n",
        "from sklearn.cluster import KMeans\n",
        "import sklearn.metrics as sm\n",
        "import pandas as pd\n",
        "import numpy as np"
      ],
      "execution_count": 18,
      "outputs": []
    },
    {
      "cell_type": "code",
      "metadata": {
        "id": "WTbM2lDFTx-4"
      },
      "source": [
        "iris = datasets.load_iris()"
      ],
      "execution_count": 19,
      "outputs": []
    },
    {
      "cell_type": "code",
      "metadata": {
        "id": "lgJXRAX1VBUc"
      },
      "source": [
        "X = pd.DataFrame(iris.data)\n",
        "X.columns = ['Sepal_Length','Sepal_Width','Petal_Length','Petal_Width']"
      ],
      "execution_count": 20,
      "outputs": []
    },
    {
      "cell_type": "code",
      "metadata": {
        "id": "RIVdrENBVHIe"
      },
      "source": [
        "y = pd.DataFrame(iris.target)\n",
        "y.columns = ['Targets']"
      ],
      "execution_count": 21,
      "outputs": []
    },
    {
      "cell_type": "code",
      "metadata": {
        "id": "15ULUz5CVM4e"
      },
      "source": [
        "\n",
        "model = KMeans(n_clusters=3)\n",
        "model.fit(X)"
      ],
      "execution_count": null,
      "outputs": []
    },
    {
      "cell_type": "code",
      "metadata": {
        "id": "y8Fa2XRcVQCA"
      },
      "source": [
        "plt.figure(figsize=(14,7))"
      ],
      "execution_count": null,
      "outputs": []
    },
    {
      "cell_type": "code",
      "metadata": {
        "id": "5SQ4sKhvVT1G"
      },
      "source": [
        "colormap = np.array(['red', 'lime', 'black'])"
      ],
      "execution_count": 24,
      "outputs": []
    },
    {
      "cell_type": "code",
      "metadata": {
        "id": "Xr87DFSrVdHD"
      },
      "source": [
        "plt.subplot(1, 2, 1)\n",
        "plt.scatter(X.Petal_Length, X.Petal_Width, c=colormap[y.Targets], s=40)\n",
        "plt.title('Real Classification')\n",
        "plt.xlabel('Petal Length')\n",
        "plt.ylabel('Petal Width')"
      ],
      "execution_count": null,
      "outputs": []
    },
    {
      "cell_type": "code",
      "metadata": {
        "id": "I3kjLpLVVlzS"
      },
      "source": [
        "plt.subplot(1, 2, 2)\n",
        "plt.scatter(X.Petal_Length, X.Petal_Width, c=colormap[model.labels_], s=40)\n",
        "plt.title('K Mean Classification')\n",
        "plt.xlabel('Petal Length')\n",
        "plt.ylabel('Petal Width')\n",
        "print('The accuracy score of K-Mean: ',sm.accuracy_score(y, model.labels_))\n",
        "print('The Confusion matrixof K-Mean: ',sm.confusion_matrix(y, model.labels_))"
      ],
      "execution_count": null,
      "outputs": []
    },
    {
      "cell_type": "code",
      "metadata": {
        "id": "UjzY6YwmV2j0"
      },
      "source": [
        "from sklearn import preprocessing\n",
        "scaler = preprocessing.StandardScaler()\n",
        "scaler.fit(X)\n",
        "xsa = scaler.transform(X)\n",
        "xs = pd.DataFrame(xsa, columns = X.columns)"
      ],
      "execution_count": 27,
      "outputs": []
    },
    {
      "cell_type": "code",
      "metadata": {
        "id": "YE5AO29nV_X0"
      },
      "source": [
        "from sklearn.mixture import GaussianMixture\n",
        "gmm = GaussianMixture(n_components=3)\n",
        "gmm.fit(xs)"
      ],
      "execution_count": null,
      "outputs": []
    },
    {
      "cell_type": "code",
      "metadata": {
        "id": "vj819ka9WD7y"
      },
      "source": [
        "y_gmm = gmm.predict(xs)"
      ],
      "execution_count": 29,
      "outputs": []
    },
    {
      "cell_type": "code",
      "metadata": {
        "id": "RVPzlRhkWGr6"
      },
      "source": [
        "\n",
        "plt.subplot(2, 2, 3)\n",
        "plt.scatter(X.Petal_Length, X.Petal_Width, c=colormap[y_gmm], s=40)\n",
        "plt.title('GMM Classification')\n",
        "plt.xlabel('Petal Length')\n",
        "plt.ylabel('Petal Width')"
      ],
      "execution_count": null,
      "outputs": []
    },
    {
      "cell_type": "code",
      "metadata": {
        "colab": {
          "base_uri": "https://localhost:8080/"
        },
        "id": "jn-AtQwIWQNi",
        "outputId": "f9c119b2-f2fb-48d1-a71f-c82707c9943f"
      },
      "source": [
        "print('The accuracy score of EM: ',sm.accuracy_score(y, y_gmm))\n",
        "print('The Confusion matrix of EM: ',sm.confusion_matrix(y, y_gmm))"
      ],
      "execution_count": 31,
      "outputs": [
        {
          "output_type": "stream",
          "text": [
            "The accuracy score of EM:  0.3333333333333333\n",
            "The Confusion matrix of EM:  [[ 0 50  0]\n",
            " [45  0  5]\n",
            " [ 0  0 50]]\n"
          ],
          "name": "stdout"
        }
      ]
    }
  ]
}